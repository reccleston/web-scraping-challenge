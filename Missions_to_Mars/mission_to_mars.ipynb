{
 "cells": [
  {
   "cell_type": "code",
   "execution_count": 1,
   "metadata": {},
   "outputs": [],
   "source": [
    "import pandas as pd\n",
    "import requests as rq\n",
    "from bs4 import BeautifulSoup\n",
    "from splinter import Browser\n",
    "from webdriver_manager.chrome import ChromeDriverManager"
   ]
  },
  {
   "cell_type": "code",
   "execution_count": 2,
   "metadata": {
    "scrolled": true
   },
   "outputs": [],
   "source": [
    "# splinter stuff \n",
    "def startSplinter(url):\n",
    "    executable_path = {'executable_path': ChromeDriverManager().install()}\n",
    "    browser = Browser('chrome', **executable_path, headless=False)\n",
    "    browser.visit(url)\n",
    "    return browser"
   ]
  },
  {
   "cell_type": "code",
   "execution_count": 3,
   "metadata": {},
   "outputs": [
    {
     "name": "stderr",
     "output_type": "stream",
     "text": [
      "[WDM] - ====== WebDriver manager ======\n",
      "[WDM] - Current google-chrome version is 88.0.4324\n",
      "[WDM] - Get LATEST driver version for 88.0.4324\n"
     ]
    },
    {
     "name": "stdout",
     "output_type": "stream",
     "text": [
      "\n",
      "\n"
     ]
    },
    {
     "name": "stderr",
     "output_type": "stream",
     "text": [
      "[WDM] - Driver [/Users/ryaneccleston-murdock/.wdm/drivers/chromedriver/mac64/88.0.4324.96/chromedriver] found in cache\n"
     ]
    }
   ],
   "source": [
    "browser = startSplinter('https://mars.nasa.gov/news/?page=0&per_page=40&order=publish_date+desc%2Ccreated_at+desc&search=&category=19%2C165%2C184%2C204&blank_scope=Latest')"
   ]
  },
  {
   "cell_type": "markdown",
   "metadata": {},
   "source": [
    "### Nasa Articles Scrape"
   ]
  },
  {
   "cell_type": "code",
   "execution_count": 4,
   "metadata": {},
   "outputs": [],
   "source": [
    "nasa_results = {'news_titles': [],\n",
    "                'p_text': []}\n",
    "            \n",
    "html = browser.html\n",
    "pg_soup = BeautifulSoup(html, 'html')\n",
    "articles = pg_soup.find_all('div', class_='list_text')\n",
    "for article in articles:\n",
    "    try: \n",
    "        nasa_results['news_titles'].append(article.find('div', class_='content_title').text.strip())\n",
    "        nasa_results['p_text'].append(article.find('div', class_='article_teaser_body').text.strip())\n",
    "    except AttributeError:\n",
    "        print('Nothing to add apparently!')\n",
    "browser.quit()"
   ]
  },
  {
   "cell_type": "code",
   "execution_count": 5,
   "metadata": {},
   "outputs": [
    {
     "data": {
      "text/plain": [
       "{'news_titles': [\"NASA's Mars Perseverance Rover Provides Front-Row Seat to Landing, First Audio Recording of Red Planet\",\n",
       "  'NASA to Reveal New Video, Images From Mars Perseverance Rover',\n",
       "  \"NASA's Mars Helicopter Reports In\",\n",
       "  \"NASA's Perseverance Rover Sends Sneak Peek of Mars Landing\",\n",
       "  \"Touchdown! NASA's Mars Perseverance Rover Safely Lands on Red Planet\",\n",
       "  \"Searching for Life in NASA's Perseverance Mars Samples\",\n",
       "  \"The Mars Relay Network Connects Us to NASA's Martian Explorers\",\n",
       "  \"NASA's Next Mars Rover Is Ready for the Most Precise Landing Yet\",\n",
       "  \"Sensors Prepare to Collect Data as Perseverance Enters Mars' Atmosphere\",\n",
       "  'InSight Is Meeting the Challenge of Winter on Dusty Mars',\n",
       "  'NASA Invites Public to Share Thrill of Mars Perseverance Rover Landing',\n",
       "  'Tricky Terrain: Helping to Assure a Safe Rover Landing',\n",
       "  'Where Should Future Astronauts Land on Mars? Follow the Water',\n",
       "  \"NASA's Perseverance Pays Off Back Home\",\n",
       "  'Could the Surface of Phobos Reveal Secrets of the Martian Past?',\n",
       "  \"NASA's MAVEN Continues to Advance Mars Science and Telecommunications Relay Efforts\",\n",
       "  \"NASA's Perseverance Rover 22 Days From Mars Landing\",\n",
       "  \"6 Things to Know About NASA's Mars Helicopter on Its Way to Mars\",\n",
       "  'NASA to Host Virtual Briefing on February Perseverance Mars Rover Landing',\n",
       "  \"NASA InSight's ‘Mole' Ends Its Journey on Mars\",\n",
       "  'Mars 2020 Perseverance Rover to Capture Sounds From the Red Planet',\n",
       "  \"NASA's Curiosity Rover Reaches Its 3,000th Day on Mars\",\n",
       "  \"Celebrate the Perseverance Rover Landing With NASA's Student Challenge\",\n",
       "  'NASA Extends Exploration for Two Planetary Science Missions',\n",
       "  '7 Things to Know About the NASA Rover About to Land on Mars',\n",
       "  \"A Martian Roundtrip: NASA's Perseverance Rover Sample Tubes\",\n",
       "  'NASA Moves Forward With Campaign to Return Mars Samples to Earth',\n",
       "  \"3 Things We've Learned From NASA's Mars InSight\",\n",
       "  \"From JPL's Mailroom to Mars and Beyond\",\n",
       "  \"5 Hidden Gems Are Riding Aboard NASA's Perseverance Rover\",\n",
       "  'MOXIE Could Help Future Rockets Launch Off Mars',\n",
       "  \"Hear Audio From NASA's Perseverance As It Travels Through Deep Space\",\n",
       "  'Mars Is Getting a New Robotic Meteorologist',\n",
       "  'Heat and Dust Help Launch Martian Water Into Space, Scientists Find',\n",
       "  \"NASA's Curiosity Takes Selfie With 'Mary Anning' on the Red Planet\",\n",
       "  'Independent Review Indicates NASA Prepared for Mars Sample Return Campaign',\n",
       "  \"NASA's Perseverance Rover 100 Days Out\",\n",
       "  \"NASA's Perseverance Rover Is Midway to Mars\",\n",
       "  'Sensors on Mars 2020 Spacecraft Answer Long-Distance Call From Earth',\n",
       "  \"NASA's Perseverance Rover Bringing 3D-Printed Metal Parts to Mars\"],\n",
       " 'p_text': ['The agency’s newest rover captured first-of-its kind footage of its Feb. 18 touchdown and has recorded audio of Martian wind.',\n",
       "  'First-of-its kind footage from the agency’s newest rover will be presented during a briefing this morning.',\n",
       "  'The technology demonstration has phoned home from where it is attached to the belly of NASA’s Perseverance rover.',\n",
       "  'The six-wheeled robot’s latest data since touching down yesterday include a hi-res image captured as the rover’s jetpack lowered it to the ground.',\n",
       "  'The agency’s latest and most complex mission to the Red Planet has touched down at Jezero Crater. Now it’s time to begin testing the health of the rover.',\n",
       "  'When the agency’s newest rover mission searches for fossilized microscopic life on the Red Planet, how will scientists know whether they’ve found it?',\n",
       "  'A tightly choreographed dance between NASA’s Deep Space Network and Mars orbiters will keep the agency’s Perseverance in touch with Earth during landing and beyond.',\n",
       "  'What to expect when the Mars 2020 Perseverance rover arrives at the Red Planet on Feb. 18, 2021.',\n",
       "  'Technology will collect critical data about the harsh entry environment during Perseverance’s entry next Thursday.',\n",
       "  'As dust collects on the solar panels and winter comes to Elysium Planitia, the team is following a plan to reduce science operations in order to keep the lander safe.',\n",
       "  'Mark your calendars for live landing commentary, news briefings, livestreamed Q&As, virtual watch parties, student activities, and more.',\n",
       "  'How two new technologies will help Perseverance, NASA’s most sophisticated rover yet, touch down onto the surface of Mars this month.',\n",
       "  'A new NASA paper provides the most detailed map to date of near-surface water ice on the Red Planet.',\n",
       "  'Even as the Perseverance rover approaches Mars, technology on board is paying off on Earth.',\n",
       "  'The Martian moon Phobos orbits through a stream of charged atoms and molecules that flow off the Red Planet’s atmosphere, new research shows.',\n",
       "  'With a suite of new national and international spacecraft primed to explore the Red Planet after their arrival next month, NASA’s MAVEN mission is ready to provide support and continue its study of the Martian atmosphere.',\n",
       "  'Seven minutes of harrowing descent to the Red Planet is in the not-so-distant future for the agency’s Mars 2020 mission.',\n",
       "  'Ingenuity, a technology experiment, is preparing to attempt the first powered, controlled flight on the Red Planet.',\n",
       "  'NASA leadership and members of the mission will discuss the agency’s latest rover, which touches down on the Red Planet on Feb. 18.',\n",
       "  'The heat probe hasn’t been able to gain the friction it needs to dig, but the mission has been granted an extension to carry on with its other science.',\n",
       "  'Audio gathered by the mission may not sound quite the same on Mars as it would to our ears on Earth. A new interactive online experience lets you sample the difference.',\n",
       "  'As the rover has continued to ascend Mount Sharp, it’s found distinctive benchlike rock formations.',\n",
       "  'The rover touches down on the Red Planet next month, and students are invited to join the excitement by designing, building, and landing their own Mars mission. NASA can help.',\n",
       "  'The missions – Juno and InSight – have each increased our understanding of our solar system, as well as spurred new sets of diverse questions.',\n",
       "  'The Mars 2020 Perseverance rover, which has started its approach to the Red Planet, will help answer the next logical question in Mars exploration.',\n",
       "  \"Marvels of engineering, the rover's sample tubes must be tough enough to safely bring Red Planet samples on the long journey back to Earth in immaculate condition.\",\n",
       "  'During this next phase, the program will mature critical technologies and make critical design decisions as well as assess industry partnerships.',\n",
       "  'Scientists are finding new mysteries since the geophysics mission landed two years ago.',\n",
       "  'Bill Allen has thrived as the mechanical systems design lead for three Mars rover missions, but he got his start as a teenager sorting letters for the NASA center.',\n",
       "  \"The symbols, mottos, and small objects added to the agency's newest Mars rover serve a variety of purposes, from functional to decorative.\",\n",
       "  \"NASA's Perseverance rover carries a device to convert Martian air into oxygen that, if produced on a larger scale, could be used not just for breathing, but also for fuel.\",\n",
       "  \"The first to be rigged with microphones, the agency's latest Mars rover picked up the subtle sounds of its own inner workings during interplanetary flight.\",\n",
       "  \"Sensors on NASA's Perseverance will help prepare for future human exploration by taking weather measurements and studying dust particles.\",\n",
       "  'Scientists using an instrument aboard NASA’s Mars Atmosphere and Volatile EvolutioN, or MAVEN, spacecraft have discovered that water vapor near the surface of the Red Planet is lofted higher into the atmosphere than anyone expected was possible.',\n",
       "  'The Mars rover has drilled three samples of rock in this clay-enriched region since arriving in July.',\n",
       "  'NASA released an independent review report Tuesday indicating the agency is well positioned for its Mars Sample Return campaign to bring pristine samples from Mars to Earth for scientific study.',\n",
       "  \"Mark your calendars: The agency's latest rover has only about 8,640,000 seconds to go before it touches down on the Red Planet, becoming history's next Mars car.\",\n",
       "  \"Sometimes half measures can be a good thing – especially on a journey this long. The agency's latest rover only has about 146 million miles left to reach its destination.\",\n",
       "  \"Instruments tailored to collect data during the descent of NASA's next rover through the Red Planet's atmosphere have been checked in flight.\",\n",
       "  \"For hobbyists and makers, 3D printing expands creative possibilities; for specialized engineers, it's also key to next-generation spacecraft design.\"]}"
      ]
     },
     "execution_count": 5,
     "metadata": {},
     "output_type": "execute_result"
    }
   ],
   "source": [
    "nasa_results"
   ]
  },
  {
   "cell_type": "markdown",
   "metadata": {},
   "source": [
    "### Feature Image Scrape"
   ]
  },
  {
   "cell_type": "code",
   "execution_count": 6,
   "metadata": {},
   "outputs": [
    {
     "name": "stderr",
     "output_type": "stream",
     "text": [
      "[WDM] - ====== WebDriver manager ======\n",
      "[WDM] - Current google-chrome version is 88.0.4324\n",
      "[WDM] - Get LATEST driver version for 88.0.4324\n"
     ]
    },
    {
     "name": "stdout",
     "output_type": "stream",
     "text": [
      "\n",
      "\n"
     ]
    },
    {
     "name": "stderr",
     "output_type": "stream",
     "text": [
      "[WDM] - Driver [/Users/ryaneccleston-murdock/.wdm/drivers/chromedriver/mac64/88.0.4324.96/chromedriver] found in cache\n"
     ]
    }
   ],
   "source": [
    "browser = startSplinter('https://www.jpl.nasa.gov/images?query=mars')"
   ]
  },
  {
   "cell_type": "code",
   "execution_count": 7,
   "metadata": {},
   "outputs": [],
   "source": [
    "browser.find_by_css('.text-theme-red')[1].click() # finds and clicks the 'SORT BY' menu\n",
    "browser.find_by_tag('option')[2].click() # finds and clicks the 'LATEST' option\n",
    "browser.find_by_css('.SearchResultCard').first.click() # finds and clicks first/featured image"
   ]
  },
  {
   "cell_type": "code",
   "execution_count": null,
   "metadata": {
    "scrolled": true
   },
   "outputs": [],
   "source": [
    "# On featured image page\n",
    "# PAGE CHANGE - LET PAGE FULLY LOAD BEFORE RUNNING\n",
    "\n",
    "featured_img_html = browser.html\n",
    "img_soup = BeautifulSoup(featured_img_html, 'html')\n",
    "featured_img_url = img_soup.find_all('img', class_='BaseImage object-scale-down')[0]['data-src']\n",
    "print(featured_img_url)\n",
    "browser.quit()"
   ]
  },
  {
   "cell_type": "markdown",
   "metadata": {},
   "source": [
    "### Mars Facts Scrape (with Pandas)"
   ]
  },
  {
   "cell_type": "code",
   "execution_count": null,
   "metadata": {},
   "outputs": [],
   "source": [
    "mars_facts_table = pd.read_html('https://space-facts.com/mars/')[0]"
   ]
  },
  {
   "cell_type": "code",
   "execution_count": null,
   "metadata": {},
   "outputs": [],
   "source": [
    "# mars_facts_html = browser.html\n",
    "# mars_facts_soup = BeautifulSoup(mars_facts_html, 'html')\n",
    "\n",
    "# for row in mars_facts_soup.find_all('tr'):\n",
    "#     print(row.text.split(':'))"
   ]
  },
  {
   "cell_type": "code",
   "execution_count": null,
   "metadata": {},
   "outputs": [],
   "source": [
    "mars_facts_table.iloc[:,0] = mars_facts_table.iloc[:,0].str.strip(':')\n",
    "mars_facts_table = mars_facts_table.rename(columns={0: 'Fact Topics', 1: 'Fact Value'})\n",
    "mars_facts_table"
   ]
  },
  {
   "cell_type": "code",
   "execution_count": null,
   "metadata": {},
   "outputs": [],
   "source": [
    "mars_facts_table_html = mars_facts_table.to_html().replace('\\n', '')"
   ]
  },
  {
   "cell_type": "markdown",
   "metadata": {},
   "source": [
    "### Mars Hemisphere Scrape"
   ]
  },
  {
   "cell_type": "code",
   "execution_count": 15,
   "metadata": {},
   "outputs": [
    {
     "name": "stderr",
     "output_type": "stream",
     "text": [
      "[WDM] - ====== WebDriver manager ======\n",
      "[WDM] - Current google-chrome version is 88.0.4324\n",
      "[WDM] - Get LATEST driver version for 88.0.4324\n"
     ]
    },
    {
     "name": "stdout",
     "output_type": "stream",
     "text": [
      "\n",
      "\n"
     ]
    },
    {
     "name": "stderr",
     "output_type": "stream",
     "text": [
      "[WDM] - Driver [/Users/ryaneccleston-murdock/.wdm/drivers/chromedriver/mac64/88.0.4324.96/chromedriver] found in cache\n"
     ]
    }
   ],
   "source": [
    "browser = startSplinter('https://astrogeology.usgs.gov/search/results?q=hemisphere+enhanced&k1=target&v1=Mars')"
   ]
  },
  {
   "cell_type": "code",
   "execution_count": null,
   "metadata": {},
   "outputs": [],
   "source": [
    "# find and click hem image (for however many)\n",
    "# find and click open \n",
    "# save hem img title and link in dict per img, save each dict to list\n",
    "# return to home "
   ]
  },
  {
   "cell_type": "code",
   "execution_count": 16,
   "metadata": {},
   "outputs": [],
   "source": [
    "hemisphere_image_urls = []\n",
    "\n",
    "for i in range(0,4):\n",
    "    browser.find_by_css('.thumb')[i].click() # clicks on hemisphere button on Homepage\n",
    "\n",
    "    # Image page actions \n",
    "    browser.find_by_text('Open').click()\n",
    "    img_page_html = browser.html\n",
    "    img_page_soup = BeautifulSoup(img_page_html, 'html')\n",
    "    img = img_page_soup.find_all('img', class_='wide-image')[0]\n",
    "    title = img_page_soup.find('h2', class_='title').text.strip(' Enhanced') + 'e'\n",
    "    img_url = 'https://astrogeology.usgs.gov' + img['src']\n",
    "\n",
    "    hemisphere_image_urls.append({title: img_url})\n",
    "    browser.back()\n",
    "browser.quit()"
   ]
  },
  {
   "cell_type": "code",
   "execution_count": null,
   "metadata": {},
   "outputs": [],
   "source": [
    "hemisphere_image_urls"
   ]
  },
  {
   "cell_type": "code",
   "execution_count": null,
   "metadata": {},
   "outputs": [],
   "source": []
  }
 ],
 "metadata": {
  "kernelspec": {
   "display_name": "Python 3",
   "language": "python",
   "name": "python3"
  },
  "language_info": {
   "codemirror_mode": {
    "name": "ipython",
    "version": 3
   },
   "file_extension": ".py",
   "mimetype": "text/x-python",
   "name": "python",
   "nbconvert_exporter": "python",
   "pygments_lexer": "ipython3",
   "version": "3.8.3"
  }
 },
 "nbformat": 4,
 "nbformat_minor": 4
}
